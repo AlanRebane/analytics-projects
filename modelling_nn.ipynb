{
 "cells": [
  {
   "cell_type": "markdown",
   "metadata": {},
   "source": [
    "# Introduction\n",
    "\n",
    "This jupyter notebook file shows how I use neural networks to predict a boolean outcome variable. In short, this file follows these steps:\n",
    "\n",
    "1. Getting the data from the SQL database\n",
    "2. Creating submmision (a dataset where I need to make predictions), train, validation and test set\n",
    "3. Cleaning the data and preparing for ML\n",
    "4. Training a deep neural network and evaluating the accuracy\n",
    "5. Making predictions for the unknown customer ID's\n",
    "\n",
    "### Background of the dataset and case\n",
    "Toy Storey sells toys online and offers shipping or pick-up globally. They have acquired third party credit card data of all online purchases of all merchants in the toy industry in one representative country. Note that different merchants handle data differently, and thus some data are only available for some merchants. Moreover, the customer_id can be linked to more than one individual.\n",
    "\n",
    "*Here my task is to lassify which customers are exclusive ToyStorey-customers. For 10% of ToyStoreys customers in the third party data, the exlusivity is unknown. I will attempt to predict whether the customers are exclusive or not.*"
   ]
  },
  {
   "cell_type": "code",
   "execution_count": 1,
   "metadata": {},
   "outputs": [],
   "source": [
    "import pandas as pd\n",
    "import numpy as np\n",
    "import matplotlib.pyplot as plt\n",
    "import sqlalchemy\n",
    "\n",
    "# set standard figure size to bigger:\n",
    "plt.rcParams['figure.figsize'] = [15, 10]"
   ]
  },
  {
   "cell_type": "markdown",
   "metadata": {},
   "source": [
    "## 1) Get data from the database"
   ]
  },
  {
   "cell_type": "code",
   "execution_count": 2,
   "metadata": {},
   "outputs": [],
   "source": [
    "# The string that sqlalchemy takes: mysql+pymysql:// + username: + password: + host: + port/ + database\n",
    "engine = sqlalchemy.create_engine('mysql+pymysql://__________+____________+_____+_____/+__________')\n",
    "# I removed the database information due to the file being public and wanting to prevent unwanted q"
   ]
  },
  {
   "cell_type": "markdown",
   "metadata": {},
   "source": [
    "From the SQL database related to the customers that have credit card data I am interested in these variables:\n",
    "\n",
    "- **exclusivity** (boolean) - whether the customer only buys from Toy Storey or not (1/0), also contains null values where it is unknown and I need to make predictions\n",
    "\n",
    "- **total_amount** (float) - total amount a customer has spent\n",
    "- **total_orders** (int) - total orders a customer has made\n",
    "- **birth_year** (int) - the birth year of the customer\n",
    "- **gender** (boolean) - customer's gender\n",
    "- **distinct_devices** - number of different devices (max 3) the customer has used to purchase\n",
    "- **spend_per_order** - total amount spent divided by total orders"
   ]
  },
  {
   "cell_type": "code",
   "execution_count": 3,
   "metadata": {},
   "outputs": [],
   "source": [
    "# Count nulls\n",
    "query_count = '''\n",
    "SELECT sum(case when exclusive is null then 1 else 0 end) count_nulls\n",
    "\t, count(exclusive) count_not_nulls\n",
    "FROM Exclusive\n",
    "'''\n",
    "\n",
    "query = '''\n",
    "SELECT customer_id, SUM(amount) AS total_amount, COUNT(*) AS total_orders, birth_year, gender, \n",
    "NULLIF(COUNT(DISTINCT(device)), 0) AS distinct_devices, \n",
    "SUM(amount)/COUNT(*) AS spend_per_order, exclusive\n",
    "FROM CreditCardData ccd\n",
    "LEFT JOIN Exclusive e2 USING (customer_id)\n",
    "WHERE customer_id IN \n",
    "(\n",
    "\tSELECT customer_id\n",
    "\tFROM Exclusive\n",
    ")\n",
    "GROUP BY customer_id \n",
    "'''"
   ]
  },
  {
   "cell_type": "code",
   "execution_count": 4,
   "metadata": {},
   "outputs": [],
   "source": [
    "df = pd.read_sql_query(query, engine)"
   ]
  },
  {
   "cell_type": "markdown",
   "metadata": {},
   "source": [
    "### 1.1) Fitting missing values to the median of the dataset:"
   ]
  },
  {
   "cell_type": "code",
   "execution_count": 5,
   "metadata": {},
   "outputs": [
    {
     "name": "stdout",
     "output_type": "stream",
     "text": [
      "Distinct devices NaN will be replaced with: 1.0\n",
      "The median birth_year that replaces NaN is the following: 1977.0\n"
     ]
    }
   ],
   "source": [
    "# The distinct devices columns has some missing values, I will use the mode of the whole\n",
    "# dataset to replace these NaN values with the most frequent values:\n",
    "print('Distinct devices NaN will be replaced with:', df.distinct_devices.mode()[0])\n",
    "df.distinct_devices = df.distinct_devices.fillna(value = df.distinct_devices.mode()[0]).astype('int8')\n",
    "\n",
    "# The missing (NaN) values from the birth_year column will be changed to median birth_year:\n",
    "median = df['birth_year'].median()\n",
    "print('The median birth_year that replaces NaN is the following:', median)\n",
    "df['birth_year'].fillna(median, inplace = True)\n",
    "\n",
    "# I will change the gender from male/female into 1/0 binary:\n",
    "df.gender = df.gender.eq('male').mul(1).astype('uint8')"
   ]
  },
  {
   "cell_type": "code",
   "execution_count": null,
   "metadata": {},
   "outputs": [],
   "source": [
    "#df.to_csv('credit_card_dataset.csv', index = True)"
   ]
  },
  {
   "cell_type": "code",
   "execution_count": null,
   "metadata": {},
   "outputs": [],
   "source": [
    "#df = pd.read_csv('credit_card_dataset.csv', index_col = 0)"
   ]
  },
  {
   "cell_type": "markdown",
   "metadata": {},
   "source": [
    "## 2) Create submmision, train, validation and test set"
   ]
  },
  {
   "cell_type": "code",
   "execution_count": 6,
   "metadata": {},
   "outputs": [],
   "source": [
    "data = pd.read_csv('Customer_ids.txt', sep=\" \", header=None)\n",
    "data.columns = ['customer_id']"
   ]
  },
  {
   "cell_type": "code",
   "execution_count": 7,
   "metadata": {},
   "outputs": [],
   "source": [
    "# Create a submit dataframe where I separate the customer_id where the exclusivity\n",
    "# is unknown and I need to predict it:\n",
    "df_submit = pd.merge(data, df, how = 'inner', on = ['customer_id'])\n",
    "\n",
    "# Now remove all NaN from the main dataframe:\n",
    "df = df.dropna(subset = ['exclusive'])\n",
    "\n",
    "# Drop also customer_id:\n",
    "df = df.drop('customer_id', axis = 1)"
   ]
  },
  {
   "cell_type": "code",
   "execution_count": 16,
   "metadata": {},
   "outputs": [],
   "source": [
    "from sklearn.model_selection import train_test_split\n",
    "\n",
    "# Separate the target variable from the main table:\n",
    "df_y = df[\"exclusive\"].copy().astype(int)\n",
    "df_X = df.drop(\"exclusive\", axis = 1)\n",
    "\n",
    "# Create a train, validation, and test sets:\n",
    "X_full, X_test, y_full, y_test = train_test_split(df_X, df_y, test_size = 0.15, random_state = 42)"
   ]
  },
  {
   "cell_type": "markdown",
   "metadata": {},
   "source": [
    "## 3) Clean the data and prepare for ML"
   ]
  },
  {
   "cell_type": "code",
   "execution_count": 9,
   "metadata": {},
   "outputs": [],
   "source": [
    "from sklearn.compose import ColumnTransformer\n",
    "from sklearn.preprocessing import StandardScaler, OneHotEncoder"
   ]
  },
  {
   "cell_type": "code",
   "execution_count": 10,
   "metadata": {},
   "outputs": [
    {
     "data": {
      "text/plain": [
       "exclusive           1.000000\n",
       "gender              0.221829\n",
       "birth_year         -0.026154\n",
       "spend_per_order    -0.116533\n",
       "distinct_devices   -0.355883\n",
       "total_amount       -0.414143\n",
       "total_orders       -0.591217\n",
       "Name: exclusive, dtype: float64"
      ]
     },
     "execution_count": 10,
     "metadata": {},
     "output_type": "execute_result"
    }
   ],
   "source": [
    "corr_matrix = df.corr()\n",
    "corr_matrix['exclusive'].sort_values(ascending = False)"
   ]
  },
  {
   "cell_type": "code",
   "execution_count": 17,
   "metadata": {},
   "outputs": [
    {
     "name": "stdout",
     "output_type": "stream",
     "text": [
      "(11683, 8)\n",
      "(2062, 8)\n"
     ]
    }
   ],
   "source": [
    "# Create a pipeline for manipulating categorical variable (distinct_devices) into OHE,\n",
    "# and scale the numerical variables:\n",
    "\n",
    "cat_attribs = ['distinct_devices']\n",
    "num_attribs = ['total_amount', 'total_orders', 'birth_year', 'spend_per_order']\n",
    "binary_attribs = ['gender']\n",
    "\n",
    "full_pipeline = ColumnTransformer([\n",
    "    ('num', StandardScaler(), num_attribs),\n",
    "    ('cat', OneHotEncoder(), cat_attribs)], \n",
    "    remainder='passthrough'\n",
    ")\n",
    "\n",
    "X_full_prep = full_pipeline.fit_transform(X_full)\n",
    "X_test_prep = full_pipeline.fit_transform(X_test)\n",
    "print(X_full_prep.shape)\n",
    "print(X_test_prep.shape)"
   ]
  },
  {
   "cell_type": "markdown",
   "metadata": {},
   "source": [
    "These are my **explanatory variables**:\n",
    "1. Total amount - total amount a customer has spent\n",
    "2. Total orders - total orders a customer has made\n",
    "3. Birth year - the birth year of the customer\n",
    "4. Spend per order - total amount divided by total orders\n",
    "5. Distinct devices - number of different devices (max 3) the customer has used to purchase\n",
    "    * OHE, 3 variables in total\n",
    "6. Gender - customer's gender\n",
    "\n",
    "This is my **target variable**:\n",
    "* Exclusive - whether the customer only buys from Toy Storey or not"
   ]
  },
  {
   "cell_type": "markdown",
   "metadata": {},
   "source": [
    "## 4) Training a deep neural network and evaluating the accuracy"
   ]
  },
  {
   "cell_type": "markdown",
   "metadata": {},
   "source": [
    "### Using LeCun initialization with self normalizing weights"
   ]
  },
  {
   "cell_type": "code",
   "execution_count": 12,
   "metadata": {},
   "outputs": [],
   "source": [
    "import tensorflow as tf\n",
    "from tensorflow import keras\n",
    "import os"
   ]
  },
  {
   "cell_type": "code",
   "execution_count": 18,
   "metadata": {},
   "outputs": [],
   "source": [
    "# Create a model\n",
    "keras.backend.clear_session()\n",
    "tf.random.set_seed(42)\n",
    "np.random.seed(42)\n",
    "\n",
    "model = keras.models.Sequential()\n",
    "\n",
    "# I am using 20 hidden layers, each hidden layer uses scaled ELU activation\n",
    "# and the weights in layers are initialized using LeCun initialization, each layer\n",
    "# has 100 neurons\n",
    "for layer in range(20): \n",
    "    model.add(keras.layers.Dense(100, activation = 'selu', kernel_initializer=\"lecun_normal\"))\n",
    "\n",
    "# Last layer uses the sigmoid activation to get a probability output\n",
    "model.add(keras.layers.Dense(1, activation=\"sigmoid\"))\n",
    "\n",
    "# Learning rate optimizer Nadam with a learning rate of 0.0005\n",
    "optimizer = keras.optimizers.Nadam(lr = 5e-4)\n",
    "\n",
    "model.compile(loss = keras.losses.BinaryCrossentropy(),\n",
    "             optimizer = optimizer,\n",
    "             metrics = ['accuracy'])\n",
    "\n",
    "# Use early stopping as regularization to find the best model,\n",
    "early_stopping_cb = keras.callbacks.EarlyStopping(patience = 20)\n",
    "# Save the model, but don't overwrite the best one!\n",
    "checkpoint_cb = keras.callbacks.ModelCheckpoint('my_final_project_model.h5', save_best_only = True)\n",
    "\n",
    "# Create a tensorboad directory to plot learning:\n",
    "run_index = 10 # change index for runs!\n",
    "run_logdir = os.path.join(os.curdir, 'my_final_project_logs', 'run_{:03d}_lecun'.format(run_index))\n",
    "\n",
    "# Tensorboard callback:\n",
    "tensorboard_cb = keras.callbacks.TensorBoard(run_logdir)\n",
    "\n",
    "# Combine the callbacks:\n",
    "callbacks = [early_stopping_cb, checkpoint_cb, tensorboard_cb]"
   ]
  },
  {
   "cell_type": "code",
   "execution_count": null,
   "metadata": {},
   "outputs": [],
   "source": [
    "%load_ext tensorboard\n",
    "%tensorboard --logdir=./my_final_project_logs --port=6006"
   ]
  },
  {
   "cell_type": "code",
   "execution_count": 19,
   "metadata": {
    "scrolled": false
   },
   "outputs": [
    {
     "name": "stdout",
     "output_type": "stream",
     "text": [
      "Epoch 1/100\n",
      "  2/366 [..............................] - ETA: 38s - loss: 0.7492 - accuracy: 0.5469WARNING:tensorflow:Callbacks method `on_train_batch_end` is slow compared to the batch time (batch time: 0.0030s vs `on_train_batch_end` time: 0.2101s). Check your callbacks.\n",
      "366/366 [==============================] - 2s 4ms/step - loss: 0.2238 - accuracy: 0.8959 - val_loss: 0.4174 - val_accuracy: 0.8550\n",
      "Epoch 2/100\n",
      "366/366 [==============================] - 1s 4ms/step - loss: 0.2023 - accuracy: 0.9061 - val_loss: 0.2296 - val_accuracy: 0.9059\n",
      "Epoch 3/100\n",
      "366/366 [==============================] - 1s 3ms/step - loss: 0.1930 - accuracy: 0.9094 - val_loss: 0.2746 - val_accuracy: 0.8206\n",
      "Epoch 4/100\n",
      "366/366 [==============================] - 1s 3ms/step - loss: 0.1954 - accuracy: 0.9105 - val_loss: 0.2231 - val_accuracy: 0.9083\n",
      "Epoch 5/100\n",
      "366/366 [==============================] - 1s 3ms/step - loss: 0.1913 - accuracy: 0.9145 - val_loss: 0.2345 - val_accuracy: 0.9132\n",
      "Epoch 6/100\n",
      "366/366 [==============================] - 1s 3ms/step - loss: 0.1910 - accuracy: 0.9130 - val_loss: 0.1875 - val_accuracy: 0.9210\n",
      "Epoch 7/100\n",
      "366/366 [==============================] - 1s 3ms/step - loss: 0.1888 - accuracy: 0.9145 - val_loss: 0.1916 - val_accuracy: 0.9059\n",
      "Epoch 8/100\n",
      "366/366 [==============================] - 1s 3ms/step - loss: 0.1901 - accuracy: 0.9153 - val_loss: 0.1880 - val_accuracy: 0.9151\n",
      "Epoch 9/100\n",
      "366/366 [==============================] - 1s 3ms/step - loss: 0.1874 - accuracy: 0.9134 - val_loss: 0.2136 - val_accuracy: 0.8661\n",
      "Epoch 10/100\n",
      "366/366 [==============================] - 1s 3ms/step - loss: 0.1854 - accuracy: 0.9150 - val_loss: 0.2044 - val_accuracy: 0.8822\n",
      "Epoch 11/100\n",
      "366/366 [==============================] - 1s 3ms/step - loss: 0.1867 - accuracy: 0.9170 - val_loss: 0.2019 - val_accuracy: 0.8996\n",
      "Epoch 12/100\n",
      "366/366 [==============================] - 1s 3ms/step - loss: 0.1845 - accuracy: 0.9182 - val_loss: 0.1969 - val_accuracy: 0.9195\n",
      "Epoch 13/100\n",
      "366/366 [==============================] - 1s 3ms/step - loss: 0.1825 - accuracy: 0.9183 - val_loss: 0.1892 - val_accuracy: 0.9171\n",
      "Epoch 14/100\n",
      "366/366 [==============================] - 1s 3ms/step - loss: 0.1926 - accuracy: 0.9145 - val_loss: 0.2645 - val_accuracy: 0.8147\n",
      "Epoch 15/100\n",
      "366/366 [==============================] - 1s 3ms/step - loss: 0.1876 - accuracy: 0.9147 - val_loss: 0.1897 - val_accuracy: 0.9185\n",
      "Epoch 16/100\n",
      "366/366 [==============================] - 1s 3ms/step - loss: 0.1873 - accuracy: 0.9160 - val_loss: 0.1810 - val_accuracy: 0.9171\n",
      "Epoch 17/100\n",
      "366/366 [==============================] - 1s 3ms/step - loss: 0.1831 - accuracy: 0.9163 - val_loss: 0.1904 - val_accuracy: 0.9127\n",
      "Epoch 18/100\n",
      "366/366 [==============================] - 1s 3ms/step - loss: 0.1816 - accuracy: 0.9194 - val_loss: 0.1998 - val_accuracy: 0.9113\n",
      "Epoch 19/100\n",
      "366/366 [==============================] - 1s 3ms/step - loss: 0.1835 - accuracy: 0.9182 - val_loss: 0.1882 - val_accuracy: 0.9171\n",
      "Epoch 20/100\n",
      "366/366 [==============================] - 1s 3ms/step - loss: 0.1832 - accuracy: 0.9141 - val_loss: 0.1852 - val_accuracy: 0.9161\n",
      "Epoch 21/100\n",
      "366/366 [==============================] - 1s 3ms/step - loss: 0.1808 - accuracy: 0.9183 - val_loss: 0.1882 - val_accuracy: 0.9176\n",
      "Epoch 22/100\n",
      "366/366 [==============================] - 1s 3ms/step - loss: 0.1819 - accuracy: 0.9161 - val_loss: 0.1797 - val_accuracy: 0.9229\n",
      "Epoch 23/100\n",
      "366/366 [==============================] - 1s 3ms/step - loss: 0.1856 - accuracy: 0.9165 - val_loss: 0.1891 - val_accuracy: 0.9142\n",
      "Epoch 24/100\n",
      "366/366 [==============================] - 1s 3ms/step - loss: 0.1808 - accuracy: 0.9196 - val_loss: 0.1858 - val_accuracy: 0.9190\n",
      "Epoch 25/100\n",
      "366/366 [==============================] - 1s 3ms/step - loss: 0.1790 - accuracy: 0.9207 - val_loss: 0.1880 - val_accuracy: 0.9176\n",
      "Epoch 26/100\n",
      "366/366 [==============================] - 1s 3ms/step - loss: 0.1794 - accuracy: 0.9207 - val_loss: 0.1831 - val_accuracy: 0.9190\n",
      "Epoch 27/100\n",
      "366/366 [==============================] - 1s 3ms/step - loss: 0.1807 - accuracy: 0.9201 - val_loss: 0.1834 - val_accuracy: 0.9151\n",
      "Epoch 28/100\n",
      "366/366 [==============================] - 1s 3ms/step - loss: 0.1792 - accuracy: 0.9201 - val_loss: 0.1852 - val_accuracy: 0.9219\n",
      "Epoch 29/100\n",
      "366/366 [==============================] - 1s 3ms/step - loss: 0.1829 - accuracy: 0.9169 - val_loss: 0.1806 - val_accuracy: 0.9200\n",
      "Epoch 30/100\n",
      "366/366 [==============================] - 1s 3ms/step - loss: 0.1806 - accuracy: 0.9204 - val_loss: 0.1864 - val_accuracy: 0.9214\n",
      "Epoch 31/100\n",
      "366/366 [==============================] - 1s 3ms/step - loss: 0.1792 - accuracy: 0.9195 - val_loss: 0.1879 - val_accuracy: 0.9176\n",
      "Epoch 32/100\n",
      "366/366 [==============================] - 1s 3ms/step - loss: 0.2252 - accuracy: 0.9038 - val_loss: 0.2438 - val_accuracy: 0.9088\n",
      "Epoch 33/100\n",
      "366/366 [==============================] - 1s 3ms/step - loss: 0.1894 - accuracy: 0.9157 - val_loss: 0.2045 - val_accuracy: 0.9176\n",
      "Epoch 34/100\n",
      "366/366 [==============================] - 1s 3ms/step - loss: 0.1809 - accuracy: 0.9201 - val_loss: 0.1844 - val_accuracy: 0.9210\n",
      "Epoch 35/100\n",
      "366/366 [==============================] - 1s 3ms/step - loss: 0.1804 - accuracy: 0.9202 - val_loss: 0.2313 - val_accuracy: 0.8729\n",
      "Epoch 36/100\n",
      "366/366 [==============================] - 1s 3ms/step - loss: 0.1837 - accuracy: 0.9165 - val_loss: 0.1826 - val_accuracy: 0.9229\n",
      "Epoch 37/100\n",
      "366/366 [==============================] - 1s 3ms/step - loss: 0.1790 - accuracy: 0.9183 - val_loss: 0.1936 - val_accuracy: 0.9122\n",
      "Epoch 38/100\n",
      "366/366 [==============================] - 1s 3ms/step - loss: 0.1789 - accuracy: 0.9201 - val_loss: 0.1875 - val_accuracy: 0.9205\n",
      "Epoch 39/100\n",
      "366/366 [==============================] - 1s 3ms/step - loss: 0.1766 - accuracy: 0.9211 - val_loss: 0.1862 - val_accuracy: 0.9210\n",
      "Epoch 40/100\n",
      "366/366 [==============================] - 1s 3ms/step - loss: 0.1768 - accuracy: 0.9208 - val_loss: 0.1953 - val_accuracy: 0.9117\n",
      "Epoch 41/100\n",
      "366/366 [==============================] - 1s 3ms/step - loss: 0.1765 - accuracy: 0.9219 - val_loss: 0.1842 - val_accuracy: 0.9243\n",
      "Epoch 42/100\n",
      "366/366 [==============================] - 1s 3ms/step - loss: 0.1770 - accuracy: 0.9201 - val_loss: 0.1812 - val_accuracy: 0.9224\n"
     ]
    }
   ],
   "source": [
    "history = model.fit(X_full_prep, y_full,\n",
    "                   epochs = 100,\n",
    "                   validation_data = (X_test_prep, y_test),\n",
    "                   callbacks = callbacks)"
   ]
  },
  {
   "cell_type": "code",
   "execution_count": 21,
   "metadata": {},
   "outputs": [
    {
     "data": {
      "image/svg+xml": [
       "<svg viewBox=\"0 0 987 400\" xmlns=\"http://www.w3.org/2000/svg\"><g><g><g><g><g><line fill=\"rgb(0, 0, 0)\" stroke=\"rgb(204, 204, 204)\" stroke-width=\"1px\" style=\"visibility: inherit;\" x1=\"41.171875\" x2=\"36.171875\" y1=\"280.0918054937282\" y2=\"280.0918054937282\"/><line fill=\"rgb(0, 0, 0)\" stroke=\"rgb(204, 204, 204)\" stroke-width=\"1px\" style=\"visibility: inherit;\" x1=\"41.171875\" x2=\"36.171875\" y1=\"147.48540394944496\" y2=\"147.48540394944496\"/><line fill=\"rgb(0, 0, 0)\" stroke=\"rgb(204, 204, 204)\" stroke-width=\"1px\" style=\"visibility: inherit;\" x1=\"41.171875\" x2=\"36.171875\" y1=\"53.399664748290995\" y2=\"53.399664748290995\"/></g><g transform=\"translate(31.171875, 0)\"><text dx=\"0em\" dy=\"0.3em\" fill=\"rgb(50, 49, 63)\" stroke=\"none\" stroke-width=\"1px\" style=\"text-anchor: end; visibility: inherit; font-family: Roboto, sans-serif; font-size: 12px; font-weight: 200;\" x=\"0\" y=\"280.0918054937282\">0.2</text><text dx=\"0em\" dy=\"0.3em\" fill=\"rgb(50, 49, 63)\" stroke=\"none\" stroke-width=\"1px\" style=\"text-anchor: end; visibility: inherit; font-family: Roboto, sans-serif; font-size: 12px; font-weight: 200;\" x=\"0\" y=\"147.48540394944496\">0.3</text><text dx=\"0em\" dy=\"0.3em\" fill=\"rgb(50, 49, 63)\" stroke=\"none\" stroke-width=\"1px\" style=\"text-anchor: end; visibility: inherit; font-family: Roboto, sans-serif; font-size: 12px; font-weight: 200;\" x=\"0\" y=\"53.399664748290995\">0.4</text></g><line fill=\"rgb(0, 0, 0)\" stroke=\"rgb(204, 204, 204)\" stroke-width=\"1px\" x1=\"41.171875\" x2=\"41.171875\" y1=\"0\" y2=\"378\"/></g></g><g clip-path=\"url(#clip_0)\" transform=\"translate(41, 0)\"><clipPath id=\"clip_0\"><rect height=\"378\" width=\"945\"/></clipPath><g><g><g><line fill=\"rgb(0, 0, 0)\" opacity=\"0.25\" stroke=\"rgb(60, 60, 60)\" stroke-width=\"1px\" x1=\"35.11695468464787\" x2=\"35.11695468464787\" y1=\"0\" y2=\"378\"/><line fill=\"rgb(0, 0, 0)\" opacity=\"0.25\" stroke=\"rgb(60, 60, 60)\" stroke-width=\"1px\" x1=\"128.6565421195462\" x2=\"128.6565421195462\" y1=\"0\" y2=\"378\"/><line fill=\"rgb(0, 0, 0)\" opacity=\"0.25\" stroke=\"rgb(60, 60, 60)\" stroke-width=\"1px\" x1=\"222.19612955444452\" x2=\"222.19612955444452\" y1=\"0\" y2=\"378\"/><line fill=\"rgb(0, 0, 0)\" opacity=\"0.25\" stroke=\"rgb(60, 60, 60)\" stroke-width=\"1px\" x1=\"315.73571698934285\" x2=\"315.73571698934285\" y1=\"0\" y2=\"378\"/><line fill=\"rgb(0, 0, 0)\" opacity=\"0.25\" stroke=\"rgb(60, 60, 60)\" stroke-width=\"1px\" x1=\"409.27530442424114\" x2=\"409.27530442424114\" y1=\"0\" y2=\"378\"/><line fill=\"rgb(0, 0, 0)\" opacity=\"0.25\" stroke=\"rgb(60, 60, 60)\" stroke-width=\"1px\" x1=\"502.8148918591395\" x2=\"502.8148918591395\" y1=\"0\" y2=\"378\"/><line fill=\"rgb(0, 0, 0)\" opacity=\"0.25\" stroke=\"rgb(60, 60, 60)\" stroke-width=\"1px\" x1=\"596.3544792940378\" x2=\"596.3544792940378\" y1=\"0\" y2=\"378\"/><line fill=\"rgb(0, 0, 0)\" opacity=\"0.25\" stroke=\"rgb(60, 60, 60)\" stroke-width=\"1px\" x1=\"689.8940667289362\" x2=\"689.8940667289362\" y1=\"0\" y2=\"378\"/><line fill=\"rgb(0, 0, 0)\" opacity=\"0.25\" stroke=\"rgb(60, 60, 60)\" stroke-width=\"1px\" x1=\"783.4336541638345\" x2=\"783.4336541638345\" y1=\"0\" y2=\"378\"/><line fill=\"rgb(0, 0, 0)\" opacity=\"0.25\" stroke=\"rgb(60, 60, 60)\" stroke-width=\"1px\" x1=\"876.9732415987328\" x2=\"876.9732415987328\" y1=\"0\" y2=\"378\"/></g><g><line fill=\"rgb(0, 0, 0)\" opacity=\"0.25\" stroke=\"rgb(60, 60, 60)\" stroke-width=\"1px\" x1=\"0\" x2=\"945.828125\" y1=\"280.0918054937282\" y2=\"280.0918054937282\"/><line fill=\"rgb(0, 0, 0)\" opacity=\"0.25\" stroke=\"rgb(60, 60, 60)\" stroke-width=\"1px\" x1=\"0\" x2=\"945.828125\" y1=\"147.48540394944496\" y2=\"147.48540394944496\"/><line fill=\"rgb(0, 0, 0)\" opacity=\"0.25\" stroke=\"rgb(60, 60, 60)\" stroke-width=\"1px\" x1=\"0\" x2=\"945.828125\" y1=\"53.399664748290995\" y2=\"53.399664748290995\"/></g></g></g><g><g><line fill=\"rgb(0, 0, 0)\" stroke=\"rgb(153, 153, 153)\" stroke-width=\"1.5px\" x1=\"35.11695468464787\" x2=\"35.11695468464787\" y1=\"0\" y2=\"378\"/></g></g><g><g><g><g><g><path d=\"M35.11695468464787,39.444897650176955L53.82487217162753,124.13040139324603L72.5327896586072,141.13173721759182L91.24070714558687,165.06547785054434L109.94862463256653,177.40643251701567L128.6565421195462,196.3652893430006L147.36445960652588,209.75400913834608L166.07237709350554,220.83542229317547L184.7802945804852,225.28655677043554L203.48821206746484,230.35033836295352L222.19612955444452,234.92074373914295L240.90404704142418,239.47236389811133L259.61196452840386,244.38773946092243L278.3198820153835,239.24651411478973L297.02779950236317,243.57761642056383L315.73571698934285,248.38809842379078L334.44363447632253,251.65188533293983L353.15155196330215,253.5844836258227L371.85946945028184,256.4984094965187L390.56738693726146,259.43243142529644L409.27530442424114,261.82052011015764L427.98322191122077,264.79398155586625L446.6911393982005,266.660652598372L465.3990568851802,268.67263758989617L484.1069743721598,270.34250077714245L502.8148918591395,272.3001150542039L521.5228093461192,274.0904529851022L540.2307268330987,275.61074820769807L558.9386443200784,277.39555979294653L577.6465618070581,278.6032929727779L596.3544792940378,279.6157508138147L615.0623967810175,276.30115515530554L633.770314267997,276.1379608914385L652.4782317549768,277.45545743497087L671.1861492419565,275.32083766358136L689.8940667289362,276.75452033323984L708.6019842159159,277.3464326575923L727.3099017028954,278.3262422426482L746.0178191898751,279.33753964272495L764.7257366768548,279.68716783450526L783.4336541638345,280.755120678849L802.1415716508142,281.9684870154381\" fill=\"none\" stroke=\"rgb(0, 153, 136)\" stroke-width=\"2px\" style=\"fill: none;\"/></g><g><path d=\"M35.11695468464787,243.34836951839395L53.82487217162753,259.665930170364L72.5327896586072,270.32706424293036L91.24070714558687,274.79008651041744L109.94862463256653,278.87346882494165L128.6565421195462,281.7138827764617L147.36445960652588,284.3373763754391L166.07237709350554,286.0076522387509L184.7802945804852,287.8674993713811L203.48821206746484,289.7574485487151L222.19612955444452,291.0678360005827L240.90404704142418,292.52414232356404L259.61196452840386,294.06834253232336L278.3198820153835,293.9226701312286L297.02779950236317,294.49357925426744L315.73571698934285,295.03110557618214L334.44363447632253,296.03416994402687L353.15155196330215,297.1065827875514L371.85946945028184,297.8376220063075L390.56738693726146,298.5340446077657L409.27530442424114,299.42180630084505L427.98322191122077,300.1177223727579L446.6911393982005,300.3719816910633L465.3990568851802,301.0808965713631L484.1069743721598,301.90039325613265L502.8148918591395,302.62392158435415L521.5228093461192,303.172498751005L540.2307268330987,303.8190888724941L558.9386443200784,304.0899521176846L577.6465618070581,304.53730991178634L596.3544792940378,305.0755651022585L615.0623967810175,301.78597070192006L633.770314267997,301.6058961511398L652.4782317549768,302.1087631308572L671.1861492419565,302.62080161048016L689.8940667289362,302.85163904290107L708.6019842159159,303.42105187488215L727.3099017028954,303.96854834144915L746.0178191898751,304.6527754038585L764.7257366768548,305.285653089747L783.4336541638345,305.9116771182325L802.1415716508142,306.4668643253854\" fill=\"none\" stroke=\"rgb(238, 51, 119)\" stroke-width=\"2px\" style=\"fill: none;\"/></g></g></g></g><g opacity=\"0.2\"><g><g><g><path d=\"M35.11695468464787,39.444897650176955L53.82487217162753,234.89038331819427L72.5327896586072,176.4184987197399L91.24070714558687,244.3416686696509L109.94862463256653,228.00969465645647L128.6565421195462,301.2066432546552L147.36445960652588,294.0751936873119L166.07237709350554,300.29110941321716L184.7802945804852,258.5393581596728L203.48821206746484,272.9661018289454L222.19612955444452,277.01785472146867L240.90404704142418,285.21817388606127L259.61196452840386,298.23768008605435L278.3198820153835,188.6968185276153L297.02779950236317,297.43067540292486L315.73571698934285,312.66432318277947L334.44363447632253,296.1234035580198L353.15155196330215,280.42333471274685L371.85946945028184,299.922795431104L390.56738693726146,305.14870680579804L409.27530442424114,300.02272092332277L427.98322191122077,315.0427160714901L446.6911393982005,298.34051871520046L465.3990568851802,304.12881606685363L484.1069743721598,300.40294464924796L502.8148918591395,308.9261074289096L521.5228093461192,308.3638097943345L540.2307268330987,305.24042659901863L558.9386443200784,313.38203730779014L577.6465618070581,303.06556312356344L596.3544792940378,300.45107097429036L615.0623967810175,215.33778062181761L633.770314267997,272.774136460758L652.4782317549768,306.59152045719236L671.1861492419565,232.51169423982023L689.8940667289362,309.78632616278475L708.6019842159159,290.7867697494563L727.3099017028954,301.2655204783841L746.0178191898751,303.4128890445337L764.7257366768548,287.9218302517009L783.4336541638345,306.9896216530001L802.1415716508142,312.3666834032758\" fill=\"none\" stroke=\"rgb(0, 153, 136)\" stroke-width=\"2px\" style=\"fill: none;\"/></g><g><path d=\"M35.11695468464787,243.34836951839395L53.82487217162753,276.3472132680685L72.5327896586072,291.78785065697645L91.24070714558687,287.7847681485881L109.94862463256653,294.56093763211L128.6565421195462,295.09342213523007L147.36445960652588,298.9863430860131L166.07237709350554,296.6592347983106L184.7802945804852,301.2984599550577L203.48821206746484,304.9451260709437L222.19612955444452,302.53537365072856L240.90404704142418,306.40916971798686L259.61196452840386,309.96621844318923L278.3198820153835,292.36561983595044L297.02779950236317,301.066680190788L315.73571698934285,301.5741428833694L334.44363447632253,309.0235780973247L353.15155196330215,311.7072557625776L371.85946945028184,308.166953684067L390.56738693726146,308.785409108237L409.27530442424114,313.0756041365432L427.98322191122077,311.16574911612895L446.6911393982005,304.500508564024L465.3990568851802,313.1155234137906L484.1069743721598,316.28867218880805L502.8148918591395,315.66264219592574L521.5228093461192,313.27826981743345L540.2307268330987,316.0775774417434L558.9386443200784,309.29069329495854L577.6465618070581,313.37604827039934L596.3544792940378,315.97879773058355L615.0623967810175,241.24027530932355L633.770314267997,297.89619010600927L652.4782317549768,312.91177320385856L671.1861492419565,313.8262060599344L689.8940667289362,307.94041837858936L708.6019842159159,316.33982017715124L727.3099017028954,316.5791705523264L746.0178191898751,320.7379511817331L764.7257366768548,320.3537163014704L783.4336541638345,321.0232894882882L802.1415716508142,320.0123263841721\" fill=\"none\" stroke=\"rgb(238, 51, 119)\" stroke-width=\"2px\" style=\"fill: none;\"/></g></g></g></g></g></g><g clip-path=\"url(#clip_1)\" transform=\"translate(41, 378)\"><clipPath id=\"clip_1\"><rect height=\"22\" width=\"945\"/></clipPath><g><g><line fill=\"rgb(0, 0, 0)\" stroke=\"rgb(204, 204, 204)\" stroke-width=\"1px\" style=\"visibility: inherit;\" x1=\"35.11695468464787\" x2=\"35.11695468464787\" y1=\"0\" y2=\"5\"/><line fill=\"rgb(0, 0, 0)\" stroke=\"rgb(204, 204, 204)\" stroke-width=\"1px\" style=\"visibility: inherit;\" x1=\"128.6565421195462\" x2=\"128.6565421195462\" y1=\"0\" y2=\"5\"/><line fill=\"rgb(0, 0, 0)\" stroke=\"rgb(204, 204, 204)\" stroke-width=\"1px\" style=\"visibility: inherit;\" x1=\"222.19612955444452\" x2=\"222.19612955444452\" y1=\"0\" y2=\"5\"/><line fill=\"rgb(0, 0, 0)\" stroke=\"rgb(204, 204, 204)\" stroke-width=\"1px\" style=\"visibility: inherit;\" x1=\"315.73571698934285\" x2=\"315.73571698934285\" y1=\"0\" y2=\"5\"/><line fill=\"rgb(0, 0, 0)\" stroke=\"rgb(204, 204, 204)\" stroke-width=\"1px\" style=\"visibility: inherit;\" x1=\"409.27530442424114\" x2=\"409.27530442424114\" y1=\"0\" y2=\"5\"/><line fill=\"rgb(0, 0, 0)\" stroke=\"rgb(204, 204, 204)\" stroke-width=\"1px\" style=\"visibility: inherit;\" x1=\"502.8148918591395\" x2=\"502.8148918591395\" y1=\"0\" y2=\"5\"/><line fill=\"rgb(0, 0, 0)\" stroke=\"rgb(204, 204, 204)\" stroke-width=\"1px\" style=\"visibility: inherit;\" x1=\"596.3544792940378\" x2=\"596.3544792940378\" y1=\"0\" y2=\"5\"/><line fill=\"rgb(0, 0, 0)\" stroke=\"rgb(204, 204, 204)\" stroke-width=\"1px\" style=\"visibility: inherit;\" x1=\"689.8940667289362\" x2=\"689.8940667289362\" y1=\"0\" y2=\"5\"/><line fill=\"rgb(0, 0, 0)\" stroke=\"rgb(204, 204, 204)\" stroke-width=\"1px\" style=\"visibility: inherit;\" x1=\"783.4336541638345\" x2=\"783.4336541638345\" y1=\"0\" y2=\"5\"/><line fill=\"rgb(0, 0, 0)\" stroke=\"rgb(204, 204, 204)\" stroke-width=\"1px\" style=\"visibility: inherit;\" x1=\"876.9732415987328\" x2=\"876.9732415987328\" y1=\"0\" y2=\"5\"/></g><g transform=\"translate(0, 8)\"><text dx=\"0em\" dy=\"0.95em\" fill=\"rgb(50, 49, 63)\" stroke=\"none\" stroke-width=\"1px\" style=\"text-anchor: middle; visibility: inherit; font-family: Roboto, sans-serif; font-size: 12px; font-weight: 200;\" x=\"35.11695468464787\" y=\"0\">0</text><text dx=\"0em\" dy=\"0.95em\" fill=\"rgb(50, 49, 63)\" stroke=\"none\" stroke-width=\"1px\" style=\"text-anchor: middle; visibility: inherit; font-family: Roboto, sans-serif; font-size: 12px; font-weight: 200;\" x=\"128.6565421195462\" y=\"0\">5</text><text dx=\"0em\" dy=\"0.95em\" fill=\"rgb(50, 49, 63)\" stroke=\"none\" stroke-width=\"1px\" style=\"text-anchor: middle; visibility: inherit; font-family: Roboto, sans-serif; font-size: 12px; font-weight: 200;\" x=\"222.19612955444452\" y=\"0\">10</text><text dx=\"0em\" dy=\"0.95em\" fill=\"rgb(50, 49, 63)\" stroke=\"none\" stroke-width=\"1px\" style=\"text-anchor: middle; visibility: inherit; font-family: Roboto, sans-serif; font-size: 12px; font-weight: 200;\" x=\"315.73571698934285\" y=\"0\">15</text><text dx=\"0em\" dy=\"0.95em\" fill=\"rgb(50, 49, 63)\" stroke=\"none\" stroke-width=\"1px\" style=\"text-anchor: middle; visibility: inherit; font-family: Roboto, sans-serif; font-size: 12px; font-weight: 200;\" x=\"409.27530442424114\" y=\"0\">20</text><text dx=\"0em\" dy=\"0.95em\" fill=\"rgb(50, 49, 63)\" stroke=\"none\" stroke-width=\"1px\" style=\"text-anchor: middle; visibility: inherit; font-family: Roboto, sans-serif; font-size: 12px; font-weight: 200;\" x=\"502.8148918591395\" y=\"0\">25</text><text dx=\"0em\" dy=\"0.95em\" fill=\"rgb(50, 49, 63)\" stroke=\"none\" stroke-width=\"1px\" style=\"text-anchor: middle; visibility: inherit; font-family: Roboto, sans-serif; font-size: 12px; font-weight: 200;\" x=\"596.3544792940378\" y=\"0\">30</text><text dx=\"0em\" dy=\"0.95em\" fill=\"rgb(50, 49, 63)\" stroke=\"none\" stroke-width=\"1px\" style=\"text-anchor: middle; visibility: inherit; font-family: Roboto, sans-serif; font-size: 12px; font-weight: 200;\" x=\"689.8940667289362\" y=\"0\">35</text><text dx=\"0em\" dy=\"0.95em\" fill=\"rgb(50, 49, 63)\" stroke=\"none\" stroke-width=\"1px\" style=\"text-anchor: middle; visibility: inherit; font-family: Roboto, sans-serif; font-size: 12px; font-weight: 200;\" x=\"783.4336541638345\" y=\"0\">40</text><text dx=\"0em\" dy=\"0.95em\" fill=\"rgb(50, 49, 63)\" stroke=\"none\" stroke-width=\"1px\" style=\"text-anchor: middle; visibility: inherit; font-family: Roboto, sans-serif; font-size: 12px; font-weight: 200;\" x=\"876.9732415987328\" y=\"0\">45</text></g><line fill=\"rgb(0, 0, 0)\" stroke=\"rgb(204, 204, 204)\" stroke-width=\"1px\" x1=\"0\" x2=\"945.828125\" y1=\"0\" y2=\"0\"/></g></g></g></g></svg>"
      ],
      "text/plain": [
       "<IPython.core.display.SVG object>"
      ]
     },
     "metadata": {},
     "output_type": "display_data"
    }
   ],
   "source": [
    "from IPython.display import SVG, display\n",
    "def show_svg():\n",
    "    display(SVG('epoch_loss.svg'))\n",
    "\n",
    "show_svg()"
   ]
  },
  {
   "cell_type": "markdown",
   "metadata": {},
   "source": [
    "Green line is test loss, deep pink is training loss. Y-axis is loss, X-axis is epoch number."
   ]
  },
  {
   "cell_type": "code",
   "execution_count": 20,
   "metadata": {},
   "outputs": [
    {
     "name": "stdout",
     "output_type": "stream",
     "text": [
      "65/65 [==============================] - 0s 1ms/step - loss: 0.1797 - accuracy: 0.9229\n"
     ]
    },
    {
     "data": {
      "text/plain": [
       "[0.17972886562347412, 0.9228904247283936]"
      ]
     },
     "execution_count": 20,
     "metadata": {},
     "output_type": "execute_result"
    }
   ],
   "source": [
    "model = keras.models.load_model('my_final_project_model.h5')\n",
    "X_test_prep = full_pipeline.fit_transform(X_test)\n",
    "\n",
    "model.evaluate(X_test_prep, y_test)"
   ]
  },
  {
   "cell_type": "markdown",
   "metadata": {},
   "source": [
    "The model's accuracy on the test set is **92.29%**. I actually used a proper training-validation-test set split to find the optimal hyperparameters for the model. Later when I found the hyperparameters according to the validation set I included the validation set also into the training data to improve the model's accuracy even more by letting it train on more data."
   ]
  },
  {
   "cell_type": "markdown",
   "metadata": {},
   "source": [
    "## 5) Making predictions for the unknown customer ID's"
   ]
  },
  {
   "cell_type": "code",
   "execution_count": 22,
   "metadata": {},
   "outputs": [],
   "source": [
    "# Drop the exclusive column:\n",
    "df_submit = df_submit.drop('exclusive', axis = 1)"
   ]
  },
  {
   "cell_type": "code",
   "execution_count": 24,
   "metadata": {},
   "outputs": [],
   "source": [
    "# Save the customer id's to a new numpy array:\n",
    "customer_ids = df_submit.iloc[:,0].to_numpy()\n",
    "customer_ids = customer_ids.reshape((customer_ids.shape[0], 1))\n",
    "\n",
    "# Run the predictor variables through the data preparation pipeline:\n",
    "X_predict = full_pipeline.fit_transform(df_submit.iloc[:,1:])\n",
    "\n",
    "# Make predictions on the unknown customer id's:\n",
    "y_predict = (model.predict(X_predict) > 0.5).astype('int8')\n",
    "\n",
    "# Merge customer ids together with the predictions:\n",
    "predictions = np.concatenate((customer_ids, y_predict), axis = 1)"
   ]
  },
  {
   "cell_type": "code",
   "execution_count": 26,
   "metadata": {},
   "outputs": [],
   "source": [
    "# Save predictions into a text file:\n",
    "np.savetxt('submission_predictions.txt', (predictions))"
   ]
  }
 ],
 "metadata": {
  "hide_input": false,
  "kernelspec": {
   "display_name": "Python 3",
   "language": "python",
   "name": "python3"
  },
  "language_info": {
   "codemirror_mode": {
    "name": "ipython",
    "version": 3
   },
   "file_extension": ".py",
   "mimetype": "text/x-python",
   "name": "python",
   "nbconvert_exporter": "python",
   "pygments_lexer": "ipython3",
   "version": "3.7.6"
  }
 },
 "nbformat": 4,
 "nbformat_minor": 4
}
